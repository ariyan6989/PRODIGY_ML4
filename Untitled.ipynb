{
 "cells": [
  {
   "cell_type": "code",
   "execution_count": 3,
   "id": "6096e1d9-fcba-4b05-8daf-e1617950f21f",
   "metadata": {},
   "outputs": [],
   "source": [
    "import os\n",
    "import zipfile\n",
    "import cv2\n",
    "import numpy as np\n",
    "from sklearn.model_selection import train_test_split\n",
    "from sklearn.neighbors import KNeighborsClassifier\n",
    "from sklearn.metrics import classification_report, accuracy_score\n",
    "import matplotlib.pyplot as plt"
   ]
  },
  {
   "cell_type": "code",
   "execution_count": 4,
   "id": "9cf45212-1a27-4bc7-98ed-a9a475aee4fe",
   "metadata": {},
   "outputs": [],
   "source": [
    "zip_path = r\"C:\\Users\\akshay\\Downloads\\archive (1).zip\"     \n",
    "extract_to = r\"C:\\Users\\akshay\\Downloads\\gesture_data\"   "
   ]
  },
  {
   "cell_type": "code",
   "execution_count": 5,
   "id": "3030fc43-e53a-4916-96dc-8b1dd5eecad5",
   "metadata": {},
   "outputs": [],
   "source": [
    "with zipfile.ZipFile(zip_path, 'r') as zip_ref:\n",
    "    zip_ref.extractall(extract_to)"
   ]
  },
  {
   "cell_type": "code",
   "execution_count": 9,
   "id": "dc32f866-7b33-4403-98a6-352fb97f41c7",
   "metadata": {},
   "outputs": [],
   "source": [
    "img_size = 64\n",
    "X = []\n",
    "y = []\n",
    "labels = []\n",
    "label_map = {}"
   ]
  },
  {
   "cell_type": "code",
   "execution_count": null,
   "id": "5fcf9317-723e-4c8d-a928-563988fdc228",
   "metadata": {},
   "outputs": [],
   "source": [
    "label_id = 0\n",
    "for root, dirs, files in os.walk(extract_to):\n",
    "    if files:\n",
    "        label = os.path.basename(os.path.dirname(root))\n",
    "        if label not in label_map:\n",
    "            label_map[label] = label_id\n",
    "            labels.append(label)\n",
    "            label_id += 1\n",
    "        for file in files:\n",
    "            if file.lower().endswith(('.jpg', '.png', '.jpeg')):\n",
    "                img_path = os.path.join(root, file)\n",
    "                img = cv2.imread(img_path, cv2.IMREAD_GRAYSCALE)\n",
    "                if img is None:\n",
    "                    continue\n",
    "                img = cv2.resize(img, (img_size, img_size))\n",
    "                X.append(img.flatten())\n",
    "                y.append(label_map[label])"
   ]
  },
  {
   "cell_type": "code",
   "execution_count": null,
   "id": "a7ce5950-cd5a-4ad5-bbd7-8963fd5b9bc6",
   "metadata": {},
   "outputs": [],
   "source": [
    "print(f\"Total Images: {len(X)}\")"
   ]
  },
  {
   "cell_type": "code",
   "execution_count": null,
   "id": "fe9b0f92-ff26-4102-8e82-f0f305344aa0",
   "metadata": {},
   "outputs": [],
   "source": []
  },
  {
   "cell_type": "code",
   "execution_count": null,
   "id": "7805704d-8df2-4177-a7a7-63bbc6e06578",
   "metadata": {},
   "outputs": [],
   "source": []
  },
  {
   "cell_type": "code",
   "execution_count": null,
   "id": "bd3b032e-8fd2-4367-8338-7d133cc87d81",
   "metadata": {},
   "outputs": [],
   "source": []
  },
  {
   "cell_type": "code",
   "execution_count": null,
   "id": "bece82f0-b59a-499a-8b7b-1b2a8c955b02",
   "metadata": {},
   "outputs": [],
   "source": []
  },
  {
   "cell_type": "code",
   "execution_count": null,
   "id": "3df38429-6782-40b0-bfe4-ba974f49923f",
   "metadata": {},
   "outputs": [],
   "source": []
  },
  {
   "cell_type": "code",
   "execution_count": null,
   "id": "a1a54b28-6e74-4118-bc06-9fdd25e36bb8",
   "metadata": {},
   "outputs": [],
   "source": []
  }
 ],
 "metadata": {
  "kernelspec": {
   "display_name": "Python 3 (ipykernel)",
   "language": "python",
   "name": "python3"
  },
  "language_info": {
   "codemirror_mode": {
    "name": "ipython",
    "version": 3
   },
   "file_extension": ".py",
   "mimetype": "text/x-python",
   "name": "python",
   "nbconvert_exporter": "python",
   "pygments_lexer": "ipython3",
   "version": "3.12.4"
  }
 },
 "nbformat": 4,
 "nbformat_minor": 5
}
